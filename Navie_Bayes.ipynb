{
 "cells": [
  {
   "cell_type": "code",
   "execution_count": 1,
   "id": "4e2f15ba",
   "metadata": {},
   "outputs": [],
   "source": [
    "import pandas as pd\n",
    "import numpy as np"
   ]
  },
  {
   "cell_type": "code",
   "execution_count": 2,
   "id": "0b913af5",
   "metadata": {},
   "outputs": [
    {
     "data": {
      "text/html": [
       "<div>\n",
       "<style scoped>\n",
       "    .dataframe tbody tr th:only-of-type {\n",
       "        vertical-align: middle;\n",
       "    }\n",
       "\n",
       "    .dataframe tbody tr th {\n",
       "        vertical-align: top;\n",
       "    }\n",
       "\n",
       "    .dataframe thead th {\n",
       "        text-align: right;\n",
       "    }\n",
       "</style>\n",
       "<table border=\"1\" class=\"dataframe\">\n",
       "  <thead>\n",
       "    <tr style=\"text-align: right;\">\n",
       "      <th></th>\n",
       "      <th>Outlook</th>\n",
       "      <th>Temperature</th>\n",
       "      <th>Humidity</th>\n",
       "      <th>Wind</th>\n",
       "      <th>Play Tennis</th>\n",
       "    </tr>\n",
       "  </thead>\n",
       "  <tbody>\n",
       "    <tr>\n",
       "      <th>0</th>\n",
       "      <td>Sunny</td>\n",
       "      <td>Hot</td>\n",
       "      <td>High</td>\n",
       "      <td>Weak</td>\n",
       "      <td>No</td>\n",
       "    </tr>\n",
       "    <tr>\n",
       "      <th>1</th>\n",
       "      <td>Sunny</td>\n",
       "      <td>Hot</td>\n",
       "      <td>High</td>\n",
       "      <td>Strong</td>\n",
       "      <td>No</td>\n",
       "    </tr>\n",
       "    <tr>\n",
       "      <th>2</th>\n",
       "      <td>Overcast</td>\n",
       "      <td>Hot</td>\n",
       "      <td>High</td>\n",
       "      <td>Weak</td>\n",
       "      <td>Yes</td>\n",
       "    </tr>\n",
       "    <tr>\n",
       "      <th>3</th>\n",
       "      <td>Rain</td>\n",
       "      <td>Mild</td>\n",
       "      <td>High</td>\n",
       "      <td>Weak</td>\n",
       "      <td>Yes</td>\n",
       "    </tr>\n",
       "    <tr>\n",
       "      <th>4</th>\n",
       "      <td>Rain</td>\n",
       "      <td>Cool</td>\n",
       "      <td>Normal</td>\n",
       "      <td>Weak</td>\n",
       "      <td>Yes</td>\n",
       "    </tr>\n",
       "  </tbody>\n",
       "</table>\n",
       "</div>"
      ],
      "text/plain": [
       "    Outlook Temperature Humidity    Wind Play Tennis\n",
       "0     Sunny         Hot     High    Weak          No\n",
       "1     Sunny         Hot     High  Strong          No\n",
       "2  Overcast         Hot     High    Weak         Yes\n",
       "3      Rain        Mild     High    Weak         Yes\n",
       "4      Rain        Cool   Normal    Weak         Yes"
      ]
     },
     "execution_count": 2,
     "metadata": {},
     "output_type": "execute_result"
    }
   ],
   "source": [
    "data = pd.read_csv('playtennis.csv')\n",
    "data.head(5)\n"
   ]
  },
  {
   "cell_type": "code",
   "execution_count": null,
   "id": "2c2b24f0",
   "metadata": {},
   "outputs": [],
   "source": [
    "# Problem 1\n",
    "# outlook = sunny, temp =hot, Humidit =high, wind= weak\n",
    "#play or not"
   ]
  },
  {
   "cell_type": "code",
   "execution_count": null,
   "id": "9daf794a",
   "metadata": {},
   "outputs": [],
   "source": [
    "9# sountions\n",
    "#P(yes/ sunny, hot, high, weak)= p(sunny/yes)*p(hot/yes)* p(high/yes)*p(weak/yes)* p(yes)\n",
    "\n",
    "#P(NO/ sunny, hot, high, weak)= p(sunny/No)*p(hot/no)* p(high/no)*p(weak/no)* p(no)\n",
    "\n",
    "# compare and deicde maximum a prostriori rule"
   ]
  },
  {
   "cell_type": "code",
   "execution_count": null,
   "id": "d7dec956",
   "metadata": {},
   "outputs": [],
   "source": [
    "# problem 2\n",
    "\n",
    "#outlook = overcat ,temp = cold, humidity =low , wind =weak\n",
    "\n",
    "# play or not play"
   ]
  },
  {
   "cell_type": "code",
   "execution_count": null,
   "id": "51fd1f98",
   "metadata": {},
   "outputs": [],
   "source": [
    "# soluntions\n",
    "#p(yes/overcast,cold, low, weak)=p(overcast/yes)*p(cold/yes)*p(low/yes)*p(weak*/yes)*p(yes)\n",
    "\n",
    "##p(no/overcast,cold, low, weak)=p(overcast/no)*p(cold/no)*p(low/no)*p(weak*/no)*p(no)\n",
    "\n",
    "# compare and deicde maximum a prostriori rule"
   ]
  },
  {
   "cell_type": "code",
   "execution_count": null,
   "id": "af908aee",
   "metadata": {},
   "outputs": [],
   "source": [
    "# training \n",
    "\n",
    "# lookup table (dictnaroy)\n",
    "\n",
    "# testing"
   ]
  },
  {
   "cell_type": "code",
   "execution_count": null,
   "id": "993f7323",
   "metadata": {},
   "outputs": [],
   "source": [
    "# P(yes)\n",
    "#p(no)"
   ]
  },
  {
   "cell_type": "code",
   "execution_count": 4,
   "id": "79ef41eb",
   "metadata": {},
   "outputs": [
    {
     "data": {
      "text/plain": [
       "Play Tennis\n",
       "Yes    9\n",
       "No     5\n",
       "Name: count, dtype: int64"
      ]
     },
     "execution_count": 4,
     "metadata": {},
     "output_type": "execute_result"
    }
   ],
   "source": [
    "data['Play Tennis'].value_counts()"
   ]
  },
  {
   "cell_type": "code",
   "execution_count": 8,
   "id": "697d5ad4",
   "metadata": {},
   "outputs": [],
   "source": [
    "py = 9/14\n",
    "pn = 5/14"
   ]
  },
  {
   "cell_type": "code",
   "execution_count": 10,
   "id": "8af0d006",
   "metadata": {},
   "outputs": [
    {
     "name": "stdout",
     "output_type": "stream",
     "text": [
      "0.6428571428571429\n",
      "0.35714285714285715\n"
     ]
    }
   ],
   "source": [
    "print(py)\n",
    "print(pn)"
   ]
  },
  {
   "cell_type": "code",
   "execution_count": 13,
   "id": "ada85890",
   "metadata": {},
   "outputs": [
    {
     "data": {
      "text/html": [
       "<div>\n",
       "<style scoped>\n",
       "    .dataframe tbody tr th:only-of-type {\n",
       "        vertical-align: middle;\n",
       "    }\n",
       "\n",
       "    .dataframe tbody tr th {\n",
       "        vertical-align: top;\n",
       "    }\n",
       "\n",
       "    .dataframe thead th {\n",
       "        text-align: right;\n",
       "    }\n",
       "</style>\n",
       "<table border=\"1\" class=\"dataframe\">\n",
       "  <thead>\n",
       "    <tr style=\"text-align: right;\">\n",
       "      <th>Play Tennis</th>\n",
       "      <th>No</th>\n",
       "      <th>Yes</th>\n",
       "    </tr>\n",
       "    <tr>\n",
       "      <th>Outlook</th>\n",
       "      <th></th>\n",
       "      <th></th>\n",
       "    </tr>\n",
       "  </thead>\n",
       "  <tbody>\n",
       "    <tr>\n",
       "      <th>Overcast</th>\n",
       "      <td>0</td>\n",
       "      <td>4</td>\n",
       "    </tr>\n",
       "    <tr>\n",
       "      <th>Rain</th>\n",
       "      <td>2</td>\n",
       "      <td>3</td>\n",
       "    </tr>\n",
       "    <tr>\n",
       "      <th>Sunny</th>\n",
       "      <td>3</td>\n",
       "      <td>2</td>\n",
       "    </tr>\n",
       "  </tbody>\n",
       "</table>\n",
       "</div>"
      ],
      "text/plain": [
       "Play Tennis  No  Yes\n",
       "Outlook             \n",
       "Overcast      0    4\n",
       "Rain          2    3\n",
       "Sunny         3    2"
      ]
     },
     "execution_count": 13,
     "metadata": {},
     "output_type": "execute_result"
    }
   ],
   "source": [
    "# otlook\n",
    "\n",
    "pd.crosstab(data['Outlook'],data['Play Tennis'])"
   ]
  },
  {
   "cell_type": "code",
   "execution_count": 14,
   "id": "ded5b1f1",
   "metadata": {},
   "outputs": [],
   "source": [
    "Pon = 0\n",
    "prn = 2/5\n",
    "prs = 3/5\n",
    "\n",
    "\n",
    "poy =4/9\n",
    "pry = 3/9\n",
    "psy = 2/9"
   ]
  },
  {
   "cell_type": "code",
   "execution_count": 15,
   "id": "2a160439",
   "metadata": {},
   "outputs": [
    {
     "data": {
      "text/html": [
       "<div>\n",
       "<style scoped>\n",
       "    .dataframe tbody tr th:only-of-type {\n",
       "        vertical-align: middle;\n",
       "    }\n",
       "\n",
       "    .dataframe tbody tr th {\n",
       "        vertical-align: top;\n",
       "    }\n",
       "\n",
       "    .dataframe thead th {\n",
       "        text-align: right;\n",
       "    }\n",
       "</style>\n",
       "<table border=\"1\" class=\"dataframe\">\n",
       "  <thead>\n",
       "    <tr style=\"text-align: right;\">\n",
       "      <th>Play Tennis</th>\n",
       "      <th>No</th>\n",
       "      <th>Yes</th>\n",
       "    </tr>\n",
       "    <tr>\n",
       "      <th>Temperature</th>\n",
       "      <th></th>\n",
       "      <th></th>\n",
       "    </tr>\n",
       "  </thead>\n",
       "  <tbody>\n",
       "    <tr>\n",
       "      <th>Cool</th>\n",
       "      <td>1</td>\n",
       "      <td>3</td>\n",
       "    </tr>\n",
       "    <tr>\n",
       "      <th>Hot</th>\n",
       "      <td>2</td>\n",
       "      <td>2</td>\n",
       "    </tr>\n",
       "    <tr>\n",
       "      <th>Mild</th>\n",
       "      <td>2</td>\n",
       "      <td>4</td>\n",
       "    </tr>\n",
       "  </tbody>\n",
       "</table>\n",
       "</div>"
      ],
      "text/plain": [
       "Play Tennis  No  Yes\n",
       "Temperature         \n",
       "Cool          1    3\n",
       "Hot           2    2\n",
       "Mild          2    4"
      ]
     },
     "execution_count": 15,
     "metadata": {},
     "output_type": "execute_result"
    }
   ],
   "source": [
    "pd.crosstab(data['Temperature'],data['Play Tennis'])"
   ]
  },
  {
   "cell_type": "code",
   "execution_count": 16,
   "id": "3f91b2fd",
   "metadata": {},
   "outputs": [],
   "source": [
    "pnc =1/5\n",
    "phn = 2/5\n",
    "pmn = 2/5\n",
    "\n",
    "\n",
    "pcy =3/9\n",
    "phy=2/9\n",
    "pmy = 4/9"
   ]
  },
  {
   "cell_type": "code",
   "execution_count": 17,
   "id": "31eb47ed",
   "metadata": {},
   "outputs": [
    {
     "data": {
      "text/html": [
       "<div>\n",
       "<style scoped>\n",
       "    .dataframe tbody tr th:only-of-type {\n",
       "        vertical-align: middle;\n",
       "    }\n",
       "\n",
       "    .dataframe tbody tr th {\n",
       "        vertical-align: top;\n",
       "    }\n",
       "\n",
       "    .dataframe thead th {\n",
       "        text-align: right;\n",
       "    }\n",
       "</style>\n",
       "<table border=\"1\" class=\"dataframe\">\n",
       "  <thead>\n",
       "    <tr style=\"text-align: right;\">\n",
       "      <th>Play Tennis</th>\n",
       "      <th>No</th>\n",
       "      <th>Yes</th>\n",
       "    </tr>\n",
       "    <tr>\n",
       "      <th>Humidity</th>\n",
       "      <th></th>\n",
       "      <th></th>\n",
       "    </tr>\n",
       "  </thead>\n",
       "  <tbody>\n",
       "    <tr>\n",
       "      <th>High</th>\n",
       "      <td>4</td>\n",
       "      <td>3</td>\n",
       "    </tr>\n",
       "    <tr>\n",
       "      <th>Normal</th>\n",
       "      <td>1</td>\n",
       "      <td>6</td>\n",
       "    </tr>\n",
       "  </tbody>\n",
       "</table>\n",
       "</div>"
      ],
      "text/plain": [
       "Play Tennis  No  Yes\n",
       "Humidity            \n",
       "High          4    3\n",
       "Normal        1    6"
      ]
     },
     "execution_count": 17,
     "metadata": {},
     "output_type": "execute_result"
    }
   ],
   "source": [
    "pd.crosstab(data['Humidity'],data['Play Tennis'])"
   ]
  },
  {
   "cell_type": "code",
   "execution_count": 19,
   "id": "dd56972c",
   "metadata": {},
   "outputs": [],
   "source": [
    "phn = 4/5\n",
    "pnn = 1/5\n",
    "\n",
    "phy = 3/9\n",
    "pny = 6/9"
   ]
  },
  {
   "cell_type": "code",
   "execution_count": 20,
   "id": "8125fa1f",
   "metadata": {},
   "outputs": [
    {
     "data": {
      "text/html": [
       "<div>\n",
       "<style scoped>\n",
       "    .dataframe tbody tr th:only-of-type {\n",
       "        vertical-align: middle;\n",
       "    }\n",
       "\n",
       "    .dataframe tbody tr th {\n",
       "        vertical-align: top;\n",
       "    }\n",
       "\n",
       "    .dataframe thead th {\n",
       "        text-align: right;\n",
       "    }\n",
       "</style>\n",
       "<table border=\"1\" class=\"dataframe\">\n",
       "  <thead>\n",
       "    <tr style=\"text-align: right;\">\n",
       "      <th>Play Tennis</th>\n",
       "      <th>No</th>\n",
       "      <th>Yes</th>\n",
       "    </tr>\n",
       "    <tr>\n",
       "      <th>Wind</th>\n",
       "      <th></th>\n",
       "      <th></th>\n",
       "    </tr>\n",
       "  </thead>\n",
       "  <tbody>\n",
       "    <tr>\n",
       "      <th>Strong</th>\n",
       "      <td>3</td>\n",
       "      <td>3</td>\n",
       "    </tr>\n",
       "    <tr>\n",
       "      <th>Weak</th>\n",
       "      <td>2</td>\n",
       "      <td>6</td>\n",
       "    </tr>\n",
       "  </tbody>\n",
       "</table>\n",
       "</div>"
      ],
      "text/plain": [
       "Play Tennis  No  Yes\n",
       "Wind                \n",
       "Strong        3    3\n",
       "Weak          2    6"
      ]
     },
     "execution_count": 20,
     "metadata": {},
     "output_type": "execute_result"
    }
   ],
   "source": [
    "pd.crosstab(data['Wind'],data['Play Tennis'])"
   ]
  },
  {
   "cell_type": "code",
   "execution_count": 21,
   "id": "3e5df629",
   "metadata": {},
   "outputs": [],
   "source": [
    "psn = 3/5\n",
    "pwn = 2/5\n",
    "\n",
    "\n",
    "psy = 3/9\n",
    "pyw = 6/9"
   ]
  },
  {
   "cell_type": "code",
   "execution_count": 27,
   "id": "14982417",
   "metadata": {},
   "outputs": [],
   "source": [
    "# outlook = sunny, temp =hot, Humidit =high, wind= weak\n",
    "\n",
    "#P(yes/ sunny, hot, high, weak)= p(sunny/yes)*p(hot/yes)* p(high/yes)*p(weak/yes)* p(yes)\n",
    "\n",
    "pyes = (psy*py)*(phy*py)*(pyw*py)*(py)"
   ]
  },
  {
   "cell_type": "code",
   "execution_count": 29,
   "id": "29032ddd",
   "metadata": {},
   "outputs": [],
   "source": [
    "#P(NO/ sunny, hot, high, weak)= p(sunny/No)*p(hot/no)* p(high/no)*p(weak/no)* p(no)\n",
    "\n",
    "pNo =(psn*pn)*(phn*pn)*(pwn*pn)*(pn)"
   ]
  },
  {
   "cell_type": "code",
   "execution_count": 28,
   "id": "c4205356",
   "metadata": {},
   "outputs": [
    {
     "name": "stdout",
     "output_type": "stream",
     "text": [
      "0.012650978758850483\n"
     ]
    }
   ],
   "source": [
    "print(pyes)"
   ]
  },
  {
   "cell_type": "code",
   "execution_count": 30,
   "id": "aaf51743",
   "metadata": {},
   "outputs": [
    {
     "name": "stdout",
     "output_type": "stream",
     "text": [
      "0.003123698458975428\n"
     ]
    }
   ],
   "source": [
    "print(pNo)"
   ]
  },
  {
   "cell_type": "code",
   "execution_count": null,
   "id": "b8bb081f",
   "metadata": {},
   "outputs": [],
   "source": []
  },
  {
   "cell_type": "code",
   "execution_count": null,
   "id": "eeca6a0f",
   "metadata": {},
   "outputs": [],
   "source": []
  }
 ],
 "metadata": {
  "kernelspec": {
   "display_name": "Python 3 (ipykernel)",
   "language": "python",
   "name": "python3"
  },
  "language_info": {
   "codemirror_mode": {
    "name": "ipython",
    "version": 3
   },
   "file_extension": ".py",
   "mimetype": "text/x-python",
   "name": "python",
   "nbconvert_exporter": "python",
   "pygments_lexer": "ipython3",
   "version": "3.11.7"
  }
 },
 "nbformat": 4,
 "nbformat_minor": 5
}
